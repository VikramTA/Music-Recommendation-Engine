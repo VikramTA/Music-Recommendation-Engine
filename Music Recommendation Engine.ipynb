{
 "cells": [
  {
   "cell_type": "markdown",
   "metadata": {},
   "source": [
    "# Preprocessing the data"
   ]
  },
  {
   "cell_type": "code",
   "execution_count": 1,
   "metadata": {},
   "outputs": [],
   "source": [
    "import numpy as np\n",
    "import pandas as pd"
   ]
  },
  {
   "cell_type": "code",
   "execution_count": 2,
   "metadata": {},
   "outputs": [
    {
     "data": {
      "text/html": [
       "<div>\n",
       "<style scoped>\n",
       "    .dataframe tbody tr th:only-of-type {\n",
       "        vertical-align: middle;\n",
       "    }\n",
       "\n",
       "    .dataframe tbody tr th {\n",
       "        vertical-align: top;\n",
       "    }\n",
       "\n",
       "    .dataframe thead th {\n",
       "        text-align: right;\n",
       "    }\n",
       "</style>\n",
       "<table border=\"1\" class=\"dataframe\">\n",
       "  <thead>\n",
       "    <tr style=\"text-align: right;\">\n",
       "      <th></th>\n",
       "      <th>song_1</th>\n",
       "      <th>song_2</th>\n",
       "      <th>song_3</th>\n",
       "      <th>song_4</th>\n",
       "      <th>song_5</th>\n",
       "      <th>song_6</th>\n",
       "      <th>song_7</th>\n",
       "      <th>song_8</th>\n",
       "      <th>song_9</th>\n",
       "      <th>song_10</th>\n",
       "      <th>...</th>\n",
       "      <th>song_4991</th>\n",
       "      <th>song_4992</th>\n",
       "      <th>song_4993</th>\n",
       "      <th>song_4994</th>\n",
       "      <th>song_4995</th>\n",
       "      <th>song_4996</th>\n",
       "      <th>song_4997</th>\n",
       "      <th>song_4998</th>\n",
       "      <th>song_4999</th>\n",
       "      <th>song_5000</th>\n",
       "    </tr>\n",
       "  </thead>\n",
       "  <tbody>\n",
       "    <tr>\n",
       "      <td>user_1</td>\n",
       "      <td>2</td>\n",
       "      <td>2</td>\n",
       "      <td>8</td>\n",
       "      <td>8</td>\n",
       "      <td>13</td>\n",
       "      <td>1</td>\n",
       "      <td>4</td>\n",
       "      <td>9</td>\n",
       "      <td>1</td>\n",
       "      <td>2</td>\n",
       "      <td>...</td>\n",
       "      <td>14</td>\n",
       "      <td>2</td>\n",
       "      <td>14</td>\n",
       "      <td>1</td>\n",
       "      <td>9</td>\n",
       "      <td>0</td>\n",
       "      <td>11</td>\n",
       "      <td>6</td>\n",
       "      <td>14</td>\n",
       "      <td>7</td>\n",
       "    </tr>\n",
       "    <tr>\n",
       "      <td>user_2</td>\n",
       "      <td>13</td>\n",
       "      <td>5</td>\n",
       "      <td>5</td>\n",
       "      <td>5</td>\n",
       "      <td>12</td>\n",
       "      <td>8</td>\n",
       "      <td>10</td>\n",
       "      <td>10</td>\n",
       "      <td>2</td>\n",
       "      <td>2</td>\n",
       "      <td>...</td>\n",
       "      <td>10</td>\n",
       "      <td>6</td>\n",
       "      <td>11</td>\n",
       "      <td>1</td>\n",
       "      <td>1</td>\n",
       "      <td>5</td>\n",
       "      <td>12</td>\n",
       "      <td>8</td>\n",
       "      <td>3</td>\n",
       "      <td>0</td>\n",
       "    </tr>\n",
       "    <tr>\n",
       "      <td>user_3</td>\n",
       "      <td>3</td>\n",
       "      <td>9</td>\n",
       "      <td>2</td>\n",
       "      <td>8</td>\n",
       "      <td>0</td>\n",
       "      <td>1</td>\n",
       "      <td>11</td>\n",
       "      <td>7</td>\n",
       "      <td>3</td>\n",
       "      <td>7</td>\n",
       "      <td>...</td>\n",
       "      <td>9</td>\n",
       "      <td>5</td>\n",
       "      <td>7</td>\n",
       "      <td>15</td>\n",
       "      <td>12</td>\n",
       "      <td>13</td>\n",
       "      <td>14</td>\n",
       "      <td>5</td>\n",
       "      <td>0</td>\n",
       "      <td>14</td>\n",
       "    </tr>\n",
       "    <tr>\n",
       "      <td>user_4</td>\n",
       "      <td>2</td>\n",
       "      <td>6</td>\n",
       "      <td>7</td>\n",
       "      <td>8</td>\n",
       "      <td>14</td>\n",
       "      <td>0</td>\n",
       "      <td>12</td>\n",
       "      <td>7</td>\n",
       "      <td>8</td>\n",
       "      <td>1</td>\n",
       "      <td>...</td>\n",
       "      <td>9</td>\n",
       "      <td>15</td>\n",
       "      <td>9</td>\n",
       "      <td>14</td>\n",
       "      <td>10</td>\n",
       "      <td>6</td>\n",
       "      <td>11</td>\n",
       "      <td>13</td>\n",
       "      <td>6</td>\n",
       "      <td>0</td>\n",
       "    </tr>\n",
       "    <tr>\n",
       "      <td>user_5</td>\n",
       "      <td>11</td>\n",
       "      <td>12</td>\n",
       "      <td>8</td>\n",
       "      <td>6</td>\n",
       "      <td>13</td>\n",
       "      <td>7</td>\n",
       "      <td>0</td>\n",
       "      <td>7</td>\n",
       "      <td>3</td>\n",
       "      <td>13</td>\n",
       "      <td>...</td>\n",
       "      <td>12</td>\n",
       "      <td>14</td>\n",
       "      <td>11</td>\n",
       "      <td>11</td>\n",
       "      <td>11</td>\n",
       "      <td>7</td>\n",
       "      <td>3</td>\n",
       "      <td>6</td>\n",
       "      <td>11</td>\n",
       "      <td>7</td>\n",
       "    </tr>\n",
       "  </tbody>\n",
       "</table>\n",
       "<p>5 rows × 5000 columns</p>\n",
       "</div>"
      ],
      "text/plain": [
       "        song_1  song_2  song_3  song_4  song_5  song_6  song_7  song_8  \\\n",
       "user_1       2       2       8       8      13       1       4       9   \n",
       "user_2      13       5       5       5      12       8      10      10   \n",
       "user_3       3       9       2       8       0       1      11       7   \n",
       "user_4       2       6       7       8      14       0      12       7   \n",
       "user_5      11      12       8       6      13       7       0       7   \n",
       "\n",
       "        song_9  song_10  ...  song_4991  song_4992  song_4993  song_4994  \\\n",
       "user_1       1        2  ...         14          2         14          1   \n",
       "user_2       2        2  ...         10          6         11          1   \n",
       "user_3       3        7  ...          9          5          7         15   \n",
       "user_4       8        1  ...          9         15          9         14   \n",
       "user_5       3       13  ...         12         14         11         11   \n",
       "\n",
       "        song_4995  song_4996  song_4997  song_4998  song_4999  song_5000  \n",
       "user_1          9          0         11          6         14          7  \n",
       "user_2          1          5         12          8          3          0  \n",
       "user_3         12         13         14          5          0         14  \n",
       "user_4         10          6         11         13          6          0  \n",
       "user_5         11          7          3          6         11          7  \n",
       "\n",
       "[5 rows x 5000 columns]"
      ]
     },
     "execution_count": 2,
     "metadata": {},
     "output_type": "execute_result"
    }
   ],
   "source": [
    "df = pd.read_csv('spotify.csv', index_col=[0])\n",
    "df.head()"
   ]
  },
  {
   "cell_type": "code",
   "execution_count": 3,
   "metadata": {},
   "outputs": [
    {
     "name": "stdout",
     "output_type": "stream",
     "text": [
      "<class 'pandas.core.frame.DataFrame'>\n",
      "Index: 1000 entries, user_1 to user_1000\n",
      "Columns: 5000 entries, song_1 to song_5000\n",
      "dtypes: int64(5000)\n",
      "memory usage: 38.2+ MB\n"
     ]
    }
   ],
   "source": [
    "df.info()"
   ]
  },
  {
   "cell_type": "code",
   "execution_count": 4,
   "metadata": {
    "scrolled": true
   },
   "outputs": [
    {
     "name": "stdout",
     "output_type": "stream",
     "text": [
      "Length of columns:  5000\n",
      "Length of users:  1000\n"
     ]
    }
   ],
   "source": [
    "print('Length of columns: ',len(df.columns)) # Length of columns\n",
    "print('Length of users: ',len(df)) # Length of users"
   ]
  },
  {
   "cell_type": "code",
   "execution_count": 5,
   "metadata": {},
   "outputs": [
    {
     "name": "stdout",
     "output_type": "stream",
     "text": [
      "[12  3 10 ... 10 13 14]\n"
     ]
    }
   ],
   "source": [
    "print(df.iloc[9,:].values)"
   ]
  },
  {
   "cell_type": "code",
   "execution_count": 6,
   "metadata": {},
   "outputs": [
    {
     "data": {
      "text/plain": [
       "array([2280, 1212, 1954, 4421, 2990], dtype=int64)"
      ]
     },
     "execution_count": 6,
     "metadata": {},
     "output_type": "execute_result"
    }
   ],
   "source": [
    "# Top 5 songs heard by user 10?\n",
    "user10 = np.argsort(df.iloc[9,:].values)[:5]\n",
    "user10"
   ]
  },
  {
   "cell_type": "code",
   "execution_count": 7,
   "metadata": {},
   "outputs": [],
   "source": [
    "# Write a funtion to return top5 songs heard by all users"
   ]
  },
  {
   "cell_type": "code",
   "execution_count": 8,
   "metadata": {},
   "outputs": [
    {
     "name": "stdout",
     "output_type": "stream",
     "text": [
      "(1000, 5000)\n"
     ]
    },
    {
     "data": {
      "text/plain": [
       "array([[ 2,  2,  8, ...,  6, 14,  7],\n",
       "       [13,  5,  5, ...,  8,  3,  0],\n",
       "       [ 3,  9,  2, ...,  5,  0, 14],\n",
       "       ...,\n",
       "       [ 6,  2,  1, ..., 13,  6, 13],\n",
       "       [ 7,  0,  8, ..., 11,  9, 12],\n",
       "       [ 6, 15,  0, ..., 15,  4,  5]], dtype=int64)"
      ]
     },
     "execution_count": 8,
     "metadata": {},
     "output_type": "execute_result"
    }
   ],
   "source": [
    "#Convert the data into numpy array because we can perform matrix operation on data now\n",
    "X = np.asarray(df)\n",
    "print(X.shape)\n",
    "X"
   ]
  },
  {
   "cell_type": "code",
   "execution_count": 9,
   "metadata": {},
   "outputs": [],
   "source": [
    "# IR Service - Information retriver only takes care of collecting songs\n",
    "# Decompose the user song matrix into user matrix and song matrix\n",
    "# NMF - Non-negative matrix factorization \n",
    "# We can mention any value for n-components ( uses the following library)\n",
    "from sklearn.decomposition import NMF"
   ]
  },
  {
   "cell_type": "code",
   "execution_count": 10,
   "metadata": {},
   "outputs": [],
   "source": [
    "nmf  = NMF(n_components=100, max_iter=50, random_state=0)"
   ]
  },
  {
   "cell_type": "code",
   "execution_count": 11,
   "metadata": {},
   "outputs": [
    {
     "data": {
      "text/plain": [
       "NMF(alpha=0.0, beta_loss='frobenius', init=None, l1_ratio=0.0, max_iter=50,\n",
       "    n_components=100, random_state=0, shuffle=False, solver='cd', tol=0.0001,\n",
       "    verbose=0)"
      ]
     },
     "execution_count": 11,
     "metadata": {},
     "output_type": "execute_result"
    }
   ],
   "source": [
    "nmf.fit(X)"
   ]
  },
  {
   "cell_type": "code",
   "execution_count": 12,
   "metadata": {},
   "outputs": [
    {
     "data": {
      "text/plain": [
       "(1000, 100)"
      ]
     },
     "execution_count": 12,
     "metadata": {},
     "output_type": "execute_result"
    }
   ],
   "source": [
    "# Extracting the component of row matrix or User matrix\n",
    "user_mat = nmf.transform(X)\n",
    "user_mat.shape\n",
    "#user_mat\n",
    "# 1000 users and 100 components, ( Here the concept of song is lost because of factorisation)"
   ]
  },
  {
   "cell_type": "code",
   "execution_count": 13,
   "metadata": {},
   "outputs": [
    {
     "data": {
      "text/plain": [
       "(100, 5000)"
      ]
     },
     "execution_count": 13,
     "metadata": {},
     "output_type": "execute_result"
    }
   ],
   "source": [
    "# Extracting the column matrix components or song matrix\n",
    "song_mat = nmf.components_\n",
    "song_mat.shape"
   ]
  },
  {
   "cell_type": "code",
   "execution_count": 14,
   "metadata": {},
   "outputs": [
    {
     "data": {
      "text/plain": [
       "(5000, 100)"
      ]
     },
     "execution_count": 14,
     "metadata": {},
     "output_type": "execute_result"
    }
   ],
   "source": [
    "song_mat = song_mat.T\n",
    "song_mat.shape"
   ]
  },
  {
   "cell_type": "code",
   "execution_count": 15,
   "metadata": {},
   "outputs": [],
   "source": [
    "# Preprocessing is done till now"
   ]
  },
  {
   "cell_type": "markdown",
   "metadata": {},
   "source": [
    "# Building a recommendation engine"
   ]
  },
  {
   "cell_type": "code",
   "execution_count": 16,
   "metadata": {},
   "outputs": [],
   "source": [
    "# Steps to build\n",
    "# 1. Find the euclidian distance between the given user1 and every other users\n",
    "# 2. Find 5 closest users\n",
    "# 3. Find songs that these 5 closest listen to\n",
    "# 4. Recommend these songs to the given user\n",
    "# 5. Pow(sum([pow(vector1[idx]-vector2[idx]),2) for idx in range (len(vector1))]), 0.5)"
   ]
  },
  {
   "cell_type": "code",
   "execution_count": 17,
   "metadata": {},
   "outputs": [
    {
     "data": {
      "text/plain": [
       "1.0"
      ]
     },
     "execution_count": 17,
     "metadata": {},
     "output_type": "execute_result"
    }
   ],
   "source": [
    "# Just an example to check if function step5 working\n",
    "v1=[1,1]\n",
    "v2=[1,2]\n",
    "pow(sum([pow(v1[idx]-v2[idx],2) for idx in range( len(v1))]), 0.5)"
   ]
  },
  {
   "cell_type": "code",
   "execution_count": 18,
   "metadata": {},
   "outputs": [],
   "source": [
    "def euc_dist (v1,v2):\n",
    "    return pow(sum([pow(v1[idx]-v2[idx],2) for idx in range( len(v1))]), 0.5)"
   ]
  },
  {
   "cell_type": "code",
   "execution_count": 19,
   "metadata": {},
   "outputs": [
    {
     "data": {
      "text/plain": [
       "list"
      ]
     },
     "execution_count": 19,
     "metadata": {},
     "output_type": "execute_result"
    }
   ],
   "source": [
    "eucl_dist_list = []\n",
    "type(eucl_dist_list)"
   ]
  },
  {
   "cell_type": "code",
   "execution_count": 20,
   "metadata": {},
   "outputs": [],
   "source": [
    "user1_vect = user_mat[0]\n",
    "for idx in range (1000):\n",
    "    other_user = user_mat[idx]\n",
    "    eu = euc_dist (user1_vect, other_user)\n",
    "    eucl_dist_list.append(eu)"
   ]
  },
  {
   "cell_type": "code",
   "execution_count": 21,
   "metadata": {},
   "outputs": [
    {
     "data": {
      "text/plain": [
       "array([  0, 352, 737, 284, 501, 609], dtype=int64)"
      ]
     },
     "execution_count": 21,
     "metadata": {},
     "output_type": "execute_result"
    }
   ],
   "source": [
    "candidate_index = np.argsort(eucl_dist_list)\n",
    "candidate_index[0:6]"
   ]
  },
  {
   "cell_type": "code",
   "execution_count": 22,
   "metadata": {},
   "outputs": [
    {
     "name": "stdout",
     "output_type": "stream",
     "text": [
      "[0.0, 8.459183342410208, 9.092154910089086, 9.127038882370476, 9.223700380884242, 9.271531945996875]\n"
     ]
    }
   ],
   "source": [
    "# Finding the top 5 closest user\n",
    "eucl_dist_list.sort()\n",
    "print(eucl_dist_list[0:6])"
   ]
  },
  {
   "cell_type": "code",
   "execution_count": 23,
   "metadata": {},
   "outputs": [],
   "source": [
    "# Finding euclidian dist between the given user to all the users\n",
    "import sys\n",
    "eucl_dist_list1 = []\n",
    "user_id = 0\n",
    "counter = 0\n",
    "for any_user in user_mat[:]:\n",
    "    if user_id == counter:\n",
    "        eucl_dist_list1.append(sys.float_info.max)\n",
    "    else:\n",
    "        user1 = user_mat[0]\n",
    "        temp = euc_dist(user1, any_user)\n",
    "        eucl_dist_list1.append(temp)\n",
    "    counter += 1"
   ]
  },
  {
   "cell_type": "code",
   "execution_count": 24,
   "metadata": {},
   "outputs": [
    {
     "data": {
      "text/plain": [
       "[array([352, 737, 284, 501, 609], dtype=int64)]"
      ]
     },
     "execution_count": 24,
     "metadata": {},
     "output_type": "execute_result"
    }
   ],
   "source": [
    "# Songs heard by the 5 users with lowest euc_dist\n",
    "\n",
    "closest_to_user1 = [np.argsort(eucl_dist_list1)[:5]]\n",
    "closest_to_user1"
   ]
  },
  {
   "cell_type": "code",
   "execution_count": 25,
   "metadata": {},
   "outputs": [],
   "source": [
    "# Convert this entire code into fuction so that the function output is the above results"
   ]
  },
  {
   "cell_type": "code",
   "execution_count": 26,
   "metadata": {},
   "outputs": [
    {
     "name": "stdout",
     "output_type": "stream",
     "text": [
      "Index(['user_353', 'user_738', 'user_285', 'user_502', 'user_610'], dtype='object')\n"
     ]
    },
    {
     "data": {
      "text/html": [
       "<div>\n",
       "<style scoped>\n",
       "    .dataframe tbody tr th:only-of-type {\n",
       "        vertical-align: middle;\n",
       "    }\n",
       "\n",
       "    .dataframe tbody tr th {\n",
       "        vertical-align: top;\n",
       "    }\n",
       "\n",
       "    .dataframe thead th {\n",
       "        text-align: right;\n",
       "    }\n",
       "</style>\n",
       "<table border=\"1\" class=\"dataframe\">\n",
       "  <thead>\n",
       "    <tr style=\"text-align: right;\">\n",
       "      <th></th>\n",
       "      <th>song_1</th>\n",
       "      <th>song_2</th>\n",
       "      <th>song_3</th>\n",
       "      <th>song_4</th>\n",
       "      <th>song_5</th>\n",
       "      <th>song_6</th>\n",
       "      <th>song_7</th>\n",
       "      <th>song_8</th>\n",
       "      <th>song_9</th>\n",
       "      <th>song_10</th>\n",
       "      <th>...</th>\n",
       "      <th>song_4991</th>\n",
       "      <th>song_4992</th>\n",
       "      <th>song_4993</th>\n",
       "      <th>song_4994</th>\n",
       "      <th>song_4995</th>\n",
       "      <th>song_4996</th>\n",
       "      <th>song_4997</th>\n",
       "      <th>song_4998</th>\n",
       "      <th>song_4999</th>\n",
       "      <th>song_5000</th>\n",
       "    </tr>\n",
       "  </thead>\n",
       "  <tbody>\n",
       "    <tr>\n",
       "      <td>user_353</td>\n",
       "      <td>9</td>\n",
       "      <td>2</td>\n",
       "      <td>1</td>\n",
       "      <td>12</td>\n",
       "      <td>4</td>\n",
       "      <td>1</td>\n",
       "      <td>7</td>\n",
       "      <td>10</td>\n",
       "      <td>10</td>\n",
       "      <td>3</td>\n",
       "      <td>...</td>\n",
       "      <td>6</td>\n",
       "      <td>6</td>\n",
       "      <td>12</td>\n",
       "      <td>4</td>\n",
       "      <td>2</td>\n",
       "      <td>1</td>\n",
       "      <td>13</td>\n",
       "      <td>9</td>\n",
       "      <td>0</td>\n",
       "      <td>0</td>\n",
       "    </tr>\n",
       "    <tr>\n",
       "      <td>user_738</td>\n",
       "      <td>14</td>\n",
       "      <td>12</td>\n",
       "      <td>2</td>\n",
       "      <td>11</td>\n",
       "      <td>10</td>\n",
       "      <td>0</td>\n",
       "      <td>13</td>\n",
       "      <td>1</td>\n",
       "      <td>13</td>\n",
       "      <td>12</td>\n",
       "      <td>...</td>\n",
       "      <td>15</td>\n",
       "      <td>1</td>\n",
       "      <td>14</td>\n",
       "      <td>12</td>\n",
       "      <td>8</td>\n",
       "      <td>0</td>\n",
       "      <td>12</td>\n",
       "      <td>6</td>\n",
       "      <td>12</td>\n",
       "      <td>6</td>\n",
       "    </tr>\n",
       "    <tr>\n",
       "      <td>user_285</td>\n",
       "      <td>7</td>\n",
       "      <td>14</td>\n",
       "      <td>5</td>\n",
       "      <td>2</td>\n",
       "      <td>2</td>\n",
       "      <td>6</td>\n",
       "      <td>10</td>\n",
       "      <td>10</td>\n",
       "      <td>1</td>\n",
       "      <td>9</td>\n",
       "      <td>...</td>\n",
       "      <td>11</td>\n",
       "      <td>8</td>\n",
       "      <td>7</td>\n",
       "      <td>2</td>\n",
       "      <td>11</td>\n",
       "      <td>8</td>\n",
       "      <td>5</td>\n",
       "      <td>15</td>\n",
       "      <td>3</td>\n",
       "      <td>8</td>\n",
       "    </tr>\n",
       "    <tr>\n",
       "      <td>user_502</td>\n",
       "      <td>2</td>\n",
       "      <td>1</td>\n",
       "      <td>9</td>\n",
       "      <td>7</td>\n",
       "      <td>15</td>\n",
       "      <td>12</td>\n",
       "      <td>9</td>\n",
       "      <td>7</td>\n",
       "      <td>8</td>\n",
       "      <td>8</td>\n",
       "      <td>...</td>\n",
       "      <td>6</td>\n",
       "      <td>5</td>\n",
       "      <td>9</td>\n",
       "      <td>10</td>\n",
       "      <td>14</td>\n",
       "      <td>10</td>\n",
       "      <td>0</td>\n",
       "      <td>3</td>\n",
       "      <td>0</td>\n",
       "      <td>4</td>\n",
       "    </tr>\n",
       "    <tr>\n",
       "      <td>user_610</td>\n",
       "      <td>4</td>\n",
       "      <td>10</td>\n",
       "      <td>0</td>\n",
       "      <td>14</td>\n",
       "      <td>12</td>\n",
       "      <td>9</td>\n",
       "      <td>9</td>\n",
       "      <td>2</td>\n",
       "      <td>1</td>\n",
       "      <td>1</td>\n",
       "      <td>...</td>\n",
       "      <td>10</td>\n",
       "      <td>7</td>\n",
       "      <td>1</td>\n",
       "      <td>12</td>\n",
       "      <td>14</td>\n",
       "      <td>4</td>\n",
       "      <td>7</td>\n",
       "      <td>9</td>\n",
       "      <td>5</td>\n",
       "      <td>15</td>\n",
       "    </tr>\n",
       "  </tbody>\n",
       "</table>\n",
       "<p>5 rows × 5000 columns</p>\n",
       "</div>"
      ],
      "text/plain": [
       "          song_1  song_2  song_3  song_4  song_5  song_6  song_7  song_8  \\\n",
       "user_353       9       2       1      12       4       1       7      10   \n",
       "user_738      14      12       2      11      10       0      13       1   \n",
       "user_285       7      14       5       2       2       6      10      10   \n",
       "user_502       2       1       9       7      15      12       9       7   \n",
       "user_610       4      10       0      14      12       9       9       2   \n",
       "\n",
       "          song_9  song_10  ...  song_4991  song_4992  song_4993  song_4994  \\\n",
       "user_353      10        3  ...          6          6         12          4   \n",
       "user_738      13       12  ...         15          1         14         12   \n",
       "user_285       1        9  ...         11          8          7          2   \n",
       "user_502       8        8  ...          6          5          9         10   \n",
       "user_610       1        1  ...         10          7          1         12   \n",
       "\n",
       "          song_4995  song_4996  song_4997  song_4998  song_4999  song_5000  \n",
       "user_353          2          1         13          9          0          0  \n",
       "user_738          8          0         12          6         12          6  \n",
       "user_285         11          8          5         15          3          8  \n",
       "user_502         14         10          0          3          0          4  \n",
       "user_610         14          4          7          9          5         15  \n",
       "\n",
       "[5 rows x 5000 columns]"
      ]
     },
     "execution_count": 26,
     "metadata": {},
     "output_type": "execute_result"
    }
   ],
   "source": [
    "# What song do these 5 users listen to?\n",
    "\n",
    "for idx in closest_to_user1:\n",
    "    temp = pd.DataFrame(df.iloc[idx])\n",
    "    print(temp[:].index)\n",
    "temp.head()"
   ]
  },
  {
   "cell_type": "markdown",
   "metadata": {},
   "source": [
    "# Implementation of K-Means"
   ]
  },
  {
   "cell_type": "code",
   "execution_count": 27,
   "metadata": {},
   "outputs": [
    {
     "data": {
      "text/plain": [
       "KMeans(algorithm='auto', copy_x=True, init='k-means++', max_iter=300,\n",
       "       n_clusters=10, n_init=10, n_jobs=None, precompute_distances='auto',\n",
       "       random_state=None, tol=0.0001, verbose=0)"
      ]
     },
     "execution_count": 27,
     "metadata": {},
     "output_type": "execute_result"
    }
   ],
   "source": [
    "# Assume that user1 is listening to song1\n",
    "#Steps to implement K-means\n",
    "# 1. Define the number of clusters for different songs \n",
    "k = 10\n",
    "from sklearn.cluster import KMeans\n",
    "kmeans = KMeans(n_clusters=k)\n",
    "kmeans.fit(song_mat)"
   ]
  },
  {
   "cell_type": "code",
   "execution_count": 28,
   "metadata": {},
   "outputs": [
    {
     "data": {
      "text/plain": [
       "0"
      ]
     },
     "execution_count": 28,
     "metadata": {},
     "output_type": "execute_result"
    }
   ],
   "source": [
    "# 2. Find which cluster does the song1 belong to\n",
    "# Find the vector for song1\n",
    "index_in_df = list(df.columns).index('song_1')\n",
    "index_in_df"
   ]
  },
  {
   "cell_type": "code",
   "execution_count": 29,
   "metadata": {},
   "outputs": [
    {
     "data": {
      "text/plain": [
       "array([8])"
      ]
     },
     "execution_count": 29,
     "metadata": {},
     "output_type": "execute_result"
    }
   ],
   "source": [
    "song1_vector = song_mat[index_in_df]\n",
    "kmeans.predict([song1_vector])"
   ]
  },
  {
   "cell_type": "code",
   "execution_count": 30,
   "metadata": {},
   "outputs": [],
   "source": [
    "cluster_id = 7 #song1 belongs to cluster 7"
   ]
  },
  {
   "cell_type": "code",
   "execution_count": 31,
   "metadata": {},
   "outputs": [
    {
     "data": {
      "text/plain": [
       "5000"
      ]
     },
     "execution_count": 31,
     "metadata": {},
     "output_type": "execute_result"
    }
   ],
   "source": [
    "all_labels = list(kmeans.predict(song_mat))\n",
    "len(all_labels)"
   ]
  },
  {
   "cell_type": "code",
   "execution_count": 32,
   "metadata": {},
   "outputs": [
    {
     "name": "stdout",
     "output_type": "stream",
     "text": [
      "[18, 24, 39, 49, 83, 88, 89, 91, 108, 110, 122, 123, 142, 149, 151, 156, 161, 191, 194, 199, 211, 216, 235, 256, 286, 291, 296, 314, 315, 319, 321, 332, 342, 351, 375, 379, 418, 429, 481, 489, 493, 497, 508, 520, 528, 535, 542, 548, 552, 574, 592, 593, 633, 659, 661, 666, 667, 676, 684, 701, 703, 708, 778, 796, 806, 823, 835, 840, 842, 846, 848, 853, 855, 873, 886, 896, 911, 923, 927, 936, 968, 973, 974, 977, 980, 982, 1006, 1010, 1016, 1018, 1025, 1026, 1035, 1063, 1110, 1118, 1120, 1146, 1148, 1151, 1152, 1153, 1158, 1190, 1203, 1204, 1209, 1221, 1225, 1234, 1257, 1277, 1286, 1297, 1316, 1324, 1367, 1374, 1377, 1391, 1424, 1430, 1448, 1464, 1467, 1473, 1489, 1493, 1499, 1521, 1524, 1527, 1537, 1543, 1569, 1575, 1576, 1617, 1626, 1637, 1648, 1655, 1675, 1688, 1708, 1709, 1736, 1738, 1749, 1751, 1795, 1797, 1801, 1806, 1811, 1819, 1844, 1867, 1898, 1904, 1924, 1933, 1940, 1952, 1958, 1963, 1968, 1969, 1973, 1989, 1990, 1992, 2043, 2053, 2079, 2086, 2087, 2090, 2121, 2124, 2131, 2134, 2168, 2171, 2179, 2197, 2213, 2215, 2220, 2230, 2233, 2238, 2248, 2254, 2263, 2265, 2268, 2274, 2275, 2276, 2279, 2281, 2293, 2301, 2319, 2335, 2346, 2348, 2389, 2392, 2395, 2397, 2398, 2400, 2401, 2409, 2425, 2441, 2459, 2465, 2471, 2476, 2488, 2493, 2523, 2524, 2537, 2572, 2598, 2617, 2621, 2627, 2634, 2635, 2638, 2652, 2661, 2664, 2666, 2680, 2690, 2699, 2702, 2710, 2721, 2753, 2762, 2776, 2797, 2844, 2845, 2851, 2857, 2914, 2924, 2937, 2951, 2955, 2969, 2974, 2979, 2988, 2995, 3005, 3007, 3015, 3017, 3026, 3073, 3078, 3092, 3098, 3101, 3106, 3120, 3131, 3137, 3157, 3186, 3207, 3210, 3214, 3215, 3224, 3251, 3264, 3269, 3270, 3278, 3280, 3283, 3290, 3298, 3300, 3302, 3307, 3312, 3314, 3315, 3334, 3348, 3351, 3365, 3371, 3378, 3395, 3398, 3399, 3415, 3437, 3449, 3457, 3468, 3475, 3483, 3500, 3538, 3541, 3556, 3558, 3579, 3590, 3611, 3613, 3627, 3640, 3641, 3657, 3683, 3691, 3705, 3721, 3722, 3730, 3739, 3745, 3747, 3757, 3777, 3784, 3804, 3812, 3817, 3818, 3834, 3839, 3844, 3849, 3850, 3880, 3883, 3885, 3918, 3942, 3993, 3996, 4011, 4015, 4018, 4032, 4043, 4048, 4051, 4061, 4073, 4076, 4088, 4096, 4108, 4117, 4121, 4127, 4132, 4140, 4150, 4166, 4171, 4193, 4204, 4217, 4218, 4226, 4236, 4243, 4256, 4257, 4267, 4295, 4296, 4342, 4347, 4348, 4352, 4360, 4368, 4398, 4406, 4411, 4428, 4445, 4451, 4460, 4478, 4514, 4523, 4529, 4572, 4577, 4579, 4594, 4616, 4617, 4630, 4639, 4640, 4666, 4685, 4706, 4728, 4751, 4758, 4771, 4772, 4778, 4827, 4856, 4863, 4864, 4880, 4901, 4906, 4912, 4918, 4929, 4946, 4967, 4968]\n"
     ]
    },
    {
     "data": {
      "text/plain": [
       "437"
      ]
     },
     "execution_count": 32,
     "metadata": {},
     "output_type": "execute_result"
    }
   ],
   "source": [
    "predicted_cluster_id = [idx for idx in range(len(all_labels)) if all_labels[idx] == cluster_id]\n",
    "predicted_cluster_candidate = song_mat[predicted_cluster_id]\n",
    "print(predicted_cluster_id)\n",
    "len(predicted_cluster_id)"
   ]
  },
  {
   "cell_type": "code",
   "execution_count": 33,
   "metadata": {},
   "outputs": [],
   "source": [
    "from sklearn.neighbors import NearestNeighbors\n",
    "knn = NearestNeighbors(n_neighbors=5)"
   ]
  },
  {
   "cell_type": "code",
   "execution_count": 34,
   "metadata": {},
   "outputs": [
    {
     "data": {
      "text/plain": [
       "NearestNeighbors(algorithm='auto', leaf_size=30, metric='minkowski',\n",
       "                 metric_params=None, n_jobs=None, n_neighbors=5, p=2,\n",
       "                 radius=1.0)"
      ]
     },
     "execution_count": 34,
     "metadata": {},
     "output_type": "execute_result"
    }
   ],
   "source": [
    "knn.fit(predicted_cluster_candidate)"
   ]
  },
  {
   "cell_type": "code",
   "execution_count": 35,
   "metadata": {},
   "outputs": [
    {
     "data": {
      "text/plain": [
       "(array([[1.93680729, 1.9449503 , 1.95899739, 2.00942528, 2.01079771]]),\n",
       " array([[ 45,  95, 234, 222,  54]], dtype=int64))"
      ]
     },
     "execution_count": 35,
     "metadata": {},
     "output_type": "execute_result"
    }
   ],
   "source": [
    "knn.kneighbors([song_mat[index_in_df]])"
   ]
  },
  {
   "cell_type": "markdown",
   "metadata": {},
   "source": [
    "Song_45, Song_95, Song_234, Song_222 & Song_54 can be suggested after current song"
   ]
  }
 ],
 "metadata": {
  "kernelspec": {
   "display_name": "Python 3",
   "language": "python",
   "name": "python3"
  },
  "language_info": {
   "codemirror_mode": {
    "name": "ipython",
    "version": 3
   },
   "file_extension": ".py",
   "mimetype": "text/x-python",
   "name": "python",
   "nbconvert_exporter": "python",
   "pygments_lexer": "ipython3",
   "version": "3.7.1"
  },
  "toc": {
   "base_numbering": 1,
   "nav_menu": {},
   "number_sections": true,
   "sideBar": true,
   "skip_h1_title": false,
   "title_cell": "Table of Contents",
   "title_sidebar": "Contents",
   "toc_cell": false,
   "toc_position": {},
   "toc_section_display": true,
   "toc_window_display": false
  },
  "varInspector": {
   "cols": {
    "lenName": 16,
    "lenType": 16,
    "lenVar": 40
   },
   "kernels_config": {
    "python": {
     "delete_cmd_postfix": "",
     "delete_cmd_prefix": "del ",
     "library": "var_list.py",
     "varRefreshCmd": "print(var_dic_list())"
    },
    "r": {
     "delete_cmd_postfix": ") ",
     "delete_cmd_prefix": "rm(",
     "library": "var_list.r",
     "varRefreshCmd": "cat(var_dic_list()) "
    }
   },
   "types_to_exclude": [
    "module",
    "function",
    "builtin_function_or_method",
    "instance",
    "_Feature"
   ],
   "window_display": false
  }
 },
 "nbformat": 4,
 "nbformat_minor": 2
}
